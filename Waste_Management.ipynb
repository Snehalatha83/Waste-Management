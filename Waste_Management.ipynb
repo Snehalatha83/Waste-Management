{
  "nbformat": 4,
  "nbformat_minor": 0,
  "metadata": {
    "colab": {
      "provenance": [],
      "authorship_tag": "ABX9TyPNvefRNg/YoIG3zB7W5Vz0",
      "include_colab_link": true
    },
    "kernelspec": {
      "name": "python3",
      "display_name": "Python 3"
    },
    "language_info": {
      "name": "python"
    }
  },
  "cells": [
    {
      "cell_type": "markdown",
      "metadata": {
        "id": "view-in-github",
        "colab_type": "text"
      },
      "source": [
        "<a href=\"https://colab.research.google.com/github/Snehalatha83/Waste-Management/blob/main/Waste_Management.ipynb\" target=\"_parent\"><img src=\"https://colab.research.google.com/assets/colab-badge.svg\" alt=\"Open In Colab\"/></a>"
      ]
    },
    {
      "cell_type": "code",
      "source": [
        "!pip install opendatasets"
      ],
      "metadata": {
        "colab": {
          "base_uri": "https://localhost:8080/"
        },
        "id": "f4RZUgbJpHcx",
        "outputId": "59a6ed90-719d-47e4-8058-dc7c8a2500c9"
      },
      "execution_count": null,
      "outputs": [
        {
          "output_type": "stream",
          "name": "stdout",
          "text": [
            "Requirement already satisfied: opendatasets in /usr/local/lib/python3.11/dist-packages (0.1.22)\n",
            "Requirement already satisfied: tqdm in /usr/local/lib/python3.11/dist-packages (from opendatasets) (4.67.1)\n",
            "Requirement already satisfied: kaggle in /usr/local/lib/python3.11/dist-packages (from opendatasets) (1.6.17)\n",
            "Requirement already satisfied: click in /usr/local/lib/python3.11/dist-packages (from opendatasets) (8.1.8)\n",
            "Requirement already satisfied: six>=1.10 in /usr/local/lib/python3.11/dist-packages (from kaggle->opendatasets) (1.17.0)\n",
            "Requirement already satisfied: certifi>=2023.7.22 in /usr/local/lib/python3.11/dist-packages (from kaggle->opendatasets) (2024.12.14)\n",
            "Requirement already satisfied: python-dateutil in /usr/local/lib/python3.11/dist-packages (from kaggle->opendatasets) (2.8.2)\n",
            "Requirement already satisfied: requests in /usr/local/lib/python3.11/dist-packages (from kaggle->opendatasets) (2.32.3)\n",
            "Requirement already satisfied: python-slugify in /usr/local/lib/python3.11/dist-packages (from kaggle->opendatasets) (8.0.4)\n",
            "Requirement already satisfied: urllib3 in /usr/local/lib/python3.11/dist-packages (from kaggle->opendatasets) (2.3.0)\n",
            "Requirement already satisfied: bleach in /usr/local/lib/python3.11/dist-packages (from kaggle->opendatasets) (6.2.0)\n",
            "Requirement already satisfied: webencodings in /usr/local/lib/python3.11/dist-packages (from bleach->kaggle->opendatasets) (0.5.1)\n",
            "Requirement already satisfied: text-unidecode>=1.3 in /usr/local/lib/python3.11/dist-packages (from python-slugify->kaggle->opendatasets) (1.3)\n",
            "Requirement already satisfied: charset-normalizer<4,>=2 in /usr/local/lib/python3.11/dist-packages (from requests->kaggle->opendatasets) (3.4.1)\n",
            "Requirement already satisfied: idna<4,>=2.5 in /usr/local/lib/python3.11/dist-packages (from requests->kaggle->opendatasets) (3.10)\n"
          ]
        }
      ]
    },
    {
      "cell_type": "code",
      "source": [
        "import opendatasets as od\n",
        "import pandas\n",
        "\n",
        "od.download(\n",
        "    \"https://www.kaggle.com/datasets/techsash/waste-classification-data\")"
      ],
      "metadata": {
        "colab": {
          "base_uri": "https://localhost:8080/"
        },
        "id": "XhlQGuEwmqkA",
        "outputId": "c81a33d3-9254-4a1d-c4b0-17ec9bb7c5a6"
      },
      "execution_count": null,
      "outputs": [
        {
          "output_type": "stream",
          "name": "stdout",
          "text": [
            "Please provide your Kaggle credentials to download this dataset. Learn more: http://bit.ly/kaggle-creds\n",
            "Your Kaggle username: snehalathamuttineni\n",
            "Your Kaggle Key: ··········\n",
            "Dataset URL: https://www.kaggle.com/datasets/techsash/waste-classification-data\n",
            "Downloading waste-classification-data.zip to ./waste-classification-data\n"
          ]
        },
        {
          "output_type": "stream",
          "name": "stderr",
          "text": [
            "100%|██████████| 427M/427M [00:06<00:00, 71.8MB/s]\n"
          ]
        },
        {
          "output_type": "stream",
          "name": "stdout",
          "text": [
            "\n"
          ]
        }
      ]
    },
    {
      "cell_type": "code",
      "execution_count": null,
      "metadata": {
        "id": "gHRI8y2gRAdZ"
      },
      "outputs": [],
      "source": [
        "import numpy as np\n",
        "import pandas as pd\n",
        "import matplotlib.pyplot as plt\n",
        "import cv2\n",
        "from tqdm import tqdm\n",
        "import warnings\n",
        "warnings.filterwarnings('ignore')"
      ]
    },
    {
      "cell_type": "code",
      "source": [
        "train_path = \"/content/waste-classification-data/DATASET/TRAIN\"\n",
        "test_path = \"/content/waste-classification-data/DATASET/TEST\""
      ],
      "metadata": {
        "id": "74Aq1RBYee6s"
      },
      "execution_count": null,
      "outputs": []
    },
    {
      "cell_type": "code",
      "source": [
        "!pip install tensorflow"
      ],
      "metadata": {
        "colab": {
          "base_uri": "https://localhost:8080/"
        },
        "id": "q2ZhdszBnpMK",
        "outputId": "c5f8e415-1017-439f-c782-474ae0578fc7"
      },
      "execution_count": null,
      "outputs": [
        {
          "output_type": "stream",
          "name": "stdout",
          "text": [
            "Requirement already satisfied: tensorflow in /usr/local/lib/python3.11/dist-packages (2.17.1)\n",
            "Requirement already satisfied: absl-py>=1.0.0 in /usr/local/lib/python3.11/dist-packages (from tensorflow) (1.4.0)\n",
            "Requirement already satisfied: astunparse>=1.6.0 in /usr/local/lib/python3.11/dist-packages (from tensorflow) (1.6.3)\n",
            "Requirement already satisfied: flatbuffers>=24.3.25 in /usr/local/lib/python3.11/dist-packages (from tensorflow) (24.12.23)\n",
            "Requirement already satisfied: gast!=0.5.0,!=0.5.1,!=0.5.2,>=0.2.1 in /usr/local/lib/python3.11/dist-packages (from tensorflow) (0.6.0)\n",
            "Requirement already satisfied: google-pasta>=0.1.1 in /usr/local/lib/python3.11/dist-packages (from tensorflow) (0.2.0)\n",
            "Requirement already satisfied: h5py>=3.10.0 in /usr/local/lib/python3.11/dist-packages (from tensorflow) (3.12.1)\n",
            "Requirement already satisfied: libclang>=13.0.0 in /usr/local/lib/python3.11/dist-packages (from tensorflow) (18.1.1)\n",
            "Requirement already satisfied: ml-dtypes<0.5.0,>=0.3.1 in /usr/local/lib/python3.11/dist-packages (from tensorflow) (0.4.1)\n",
            "Requirement already satisfied: opt-einsum>=2.3.2 in /usr/local/lib/python3.11/dist-packages (from tensorflow) (3.4.0)\n",
            "Requirement already satisfied: packaging in /usr/local/lib/python3.11/dist-packages (from tensorflow) (24.2)\n",
            "Requirement already satisfied: protobuf!=4.21.0,!=4.21.1,!=4.21.2,!=4.21.3,!=4.21.4,!=4.21.5,<5.0.0dev,>=3.20.3 in /usr/local/lib/python3.11/dist-packages (from tensorflow) (4.25.5)\n",
            "Requirement already satisfied: requests<3,>=2.21.0 in /usr/local/lib/python3.11/dist-packages (from tensorflow) (2.32.3)\n",
            "Requirement already satisfied: setuptools in /usr/local/lib/python3.11/dist-packages (from tensorflow) (75.1.0)\n",
            "Requirement already satisfied: six>=1.12.0 in /usr/local/lib/python3.11/dist-packages (from tensorflow) (1.17.0)\n",
            "Requirement already satisfied: termcolor>=1.1.0 in /usr/local/lib/python3.11/dist-packages (from tensorflow) (2.5.0)\n",
            "Requirement already satisfied: typing-extensions>=3.6.6 in /usr/local/lib/python3.11/dist-packages (from tensorflow) (4.12.2)\n",
            "Requirement already satisfied: wrapt>=1.11.0 in /usr/local/lib/python3.11/dist-packages (from tensorflow) (1.17.0)\n",
            "Requirement already satisfied: grpcio<2.0,>=1.24.3 in /usr/local/lib/python3.11/dist-packages (from tensorflow) (1.69.0)\n",
            "Requirement already satisfied: tensorboard<2.18,>=2.17 in /usr/local/lib/python3.11/dist-packages (from tensorflow) (2.17.1)\n",
            "Requirement already satisfied: keras>=3.2.0 in /usr/local/lib/python3.11/dist-packages (from tensorflow) (3.5.0)\n",
            "Requirement already satisfied: tensorflow-io-gcs-filesystem>=0.23.1 in /usr/local/lib/python3.11/dist-packages (from tensorflow) (0.37.1)\n",
            "Requirement already satisfied: numpy<2.0.0,>=1.23.5 in /usr/local/lib/python3.11/dist-packages (from tensorflow) (1.26.4)\n",
            "Requirement already satisfied: wheel<1.0,>=0.23.0 in /usr/local/lib/python3.11/dist-packages (from astunparse>=1.6.0->tensorflow) (0.45.1)\n",
            "Requirement already satisfied: rich in /usr/local/lib/python3.11/dist-packages (from keras>=3.2.0->tensorflow) (13.9.4)\n",
            "Requirement already satisfied: namex in /usr/local/lib/python3.11/dist-packages (from keras>=3.2.0->tensorflow) (0.0.8)\n",
            "Requirement already satisfied: optree in /usr/local/lib/python3.11/dist-packages (from keras>=3.2.0->tensorflow) (0.13.1)\n",
            "Requirement already satisfied: charset-normalizer<4,>=2 in /usr/local/lib/python3.11/dist-packages (from requests<3,>=2.21.0->tensorflow) (3.4.1)\n",
            "Requirement already satisfied: idna<4,>=2.5 in /usr/local/lib/python3.11/dist-packages (from requests<3,>=2.21.0->tensorflow) (3.10)\n",
            "Requirement already satisfied: urllib3<3,>=1.21.1 in /usr/local/lib/python3.11/dist-packages (from requests<3,>=2.21.0->tensorflow) (2.3.0)\n",
            "Requirement already satisfied: certifi>=2017.4.17 in /usr/local/lib/python3.11/dist-packages (from requests<3,>=2.21.0->tensorflow) (2024.12.14)\n",
            "Requirement already satisfied: markdown>=2.6.8 in /usr/local/lib/python3.11/dist-packages (from tensorboard<2.18,>=2.17->tensorflow) (3.7)\n",
            "Requirement already satisfied: tensorboard-data-server<0.8.0,>=0.7.0 in /usr/local/lib/python3.11/dist-packages (from tensorboard<2.18,>=2.17->tensorflow) (0.7.2)\n",
            "Requirement already satisfied: werkzeug>=1.0.1 in /usr/local/lib/python3.11/dist-packages (from tensorboard<2.18,>=2.17->tensorflow) (3.1.3)\n",
            "Requirement already satisfied: MarkupSafe>=2.1.1 in /usr/local/lib/python3.11/dist-packages (from werkzeug>=1.0.1->tensorboard<2.18,>=2.17->tensorflow) (3.0.2)\n",
            "Requirement already satisfied: markdown-it-py>=2.2.0 in /usr/local/lib/python3.11/dist-packages (from rich->keras>=3.2.0->tensorflow) (3.0.0)\n",
            "Requirement already satisfied: pygments<3.0.0,>=2.13.0 in /usr/local/lib/python3.11/dist-packages (from rich->keras>=3.2.0->tensorflow) (2.18.0)\n",
            "Requirement already satisfied: mdurl~=0.1 in /usr/local/lib/python3.11/dist-packages (from markdown-it-py>=2.2.0->rich->keras>=3.2.0->tensorflow) (0.1.2)\n"
          ]
        }
      ]
    },
    {
      "cell_type": "code",
      "source": [
        "from sklearn.preprocessing import LabelEncoder\n",
        "from tensorflow.keras.models import Sequential\n",
        "from tensorflow.keras.layers import Conv2D, MaxPooling2D, Activation, Dropout, Flatten, Dense, BatchNormalization\n",
        "from tensorflow.keras.preprocessing.image import ImageDataGenerator, img_to_array, load_img\n",
        "from tensorflow.keras.utils import plot_model\n",
        "from glob import glob"
      ],
      "metadata": {
        "id": "Qe2DQI4Pe7fI"
      },
      "execution_count": null,
      "outputs": []
    },
    {
      "cell_type": "code",
      "source": [
        "# Initialize data lists\n",
        "x_data = []\n",
        "y_data = []\n",
        "image_size = (128, 128)  # Resize all images to 128x128 for consistency\n",
        "\n",
        "# Process images\n",
        "for category in tqdm(glob(train_path + '/*'), desc=\"Loading Categories\"):\n",
        "    label = category.split('/')[-1]\n",
        "    for file in tqdm(glob(category + '/*'), desc=f\"Processing {label}\"):\n",
        "        img_array = cv2.imread(file)\n",
        "        img_array = cv2.cvtColor(img_array, cv2.COLOR_BGR2RGB)\n",
        "        img_array = cv2.resize(img_array, image_size)  # Resize images\n",
        "        x_data.append(img_array)\n",
        "        y_data.append(label)\n",
        "\n",
        "\n",
        "# Convert data to NumPy arrays\n",
        "x_data = np.array(x_data, dtype=\"float32\") / 255.0  # Normalize pixel values\n",
        "y_data = np.array(y_data)\n",
        "\n",
        "# Encode labels\n",
        "label_encoder = LabelEncoder()\n",
        "y_data_encoded = label_encoder.fit_transform(y_data)\n",
        "\n",
        "# Create a DataFrame for visualization\n",
        "data = pd.DataFrame({'image': list(x_data), 'label': y_data})"
      ],
      "metadata": {
        "colab": {
          "base_uri": "https://localhost:8080/"
        },
        "id": "wjSAb3tNfP19",
        "outputId": "f47bf4fc-e07d-4872-f5a5-de4a32de3f7a"
      },
      "execution_count": null,
      "outputs": [
        {
          "output_type": "stream",
          "name": "stderr",
          "text": [
            "Loading Categories:   0%|          | 0/2 [00:00<?, ?it/s]\n",
            "Processing R:   0%|          | 0/9999 [00:00<?, ?it/s]\u001b[A\n",
            "Processing R:   2%|▏         | 168/9999 [00:00<00:05, 1673.98it/s]\u001b[A\n",
            "Processing R:   4%|▎         | 371/9999 [00:00<00:05, 1882.92it/s]\u001b[A\n",
            "Processing R:   6%|▌         | 562/9999 [00:00<00:04, 1892.59it/s]\u001b[A\n",
            "Processing R:   8%|▊         | 762/9999 [00:00<00:04, 1931.22it/s]\u001b[A\n",
            "Processing R:  10%|▉         | 959/9999 [00:00<00:04, 1944.05it/s]\u001b[A\n",
            "Processing R:  12%|█▏        | 1154/9999 [00:00<00:04, 1919.58it/s]\u001b[A\n",
            "Processing R:  14%|█▎        | 1352/9999 [00:00<00:04, 1938.19it/s]\u001b[A\n",
            "Processing R:  15%|█▌        | 1546/9999 [00:00<00:04, 1921.12it/s]\u001b[A\n",
            "Processing R:  18%|█▊        | 1751/9999 [00:00<00:04, 1958.92it/s]\u001b[A\n",
            "Processing R:  19%|█▉        | 1947/9999 [00:01<00:04, 1894.04it/s]\u001b[A\n",
            "Processing R:  21%|██▏       | 2137/9999 [00:01<00:04, 1712.62it/s]\u001b[A\n",
            "Processing R:  23%|██▎       | 2326/9999 [00:01<00:04, 1761.17it/s]\u001b[A\n",
            "Processing R:  25%|██▌       | 2541/9999 [00:01<00:03, 1870.50it/s]\u001b[A\n",
            "Processing R:  28%|██▊       | 2750/9999 [00:01<00:03, 1932.98it/s]\u001b[A\n",
            "Processing R:  30%|██▉       | 2956/9999 [00:01<00:03, 1969.07it/s]\u001b[A\n",
            "Processing R:  32%|███▏      | 3160/9999 [00:01<00:03, 1988.24it/s]\u001b[A\n",
            "Processing R:  34%|███▎      | 3365/9999 [00:01<00:03, 2004.86it/s]\u001b[A\n",
            "Processing R:  36%|███▌      | 3571/9999 [00:01<00:03, 2020.44it/s]\u001b[A\n",
            "Processing R:  38%|███▊      | 3774/9999 [00:01<00:03, 2014.18it/s]\u001b[A\n",
            "Processing R:  40%|███▉      | 3976/9999 [00:02<00:03, 1883.57it/s]\u001b[A\n",
            "Processing R:  42%|████▏     | 4167/9999 [00:02<00:03, 1853.60it/s]\u001b[A\n",
            "Processing R:  44%|████▎     | 4354/9999 [00:02<00:03, 1844.20it/s]\u001b[A\n",
            "Processing R:  46%|████▌     | 4563/9999 [00:02<00:02, 1914.11it/s]\u001b[A\n",
            "Processing R:  48%|████▊     | 4779/9999 [00:02<00:02, 1984.51it/s]\u001b[A\n",
            "Processing R:  50%|████▉     | 4987/9999 [00:02<00:02, 2009.81it/s]\u001b[A\n",
            "Processing R:  52%|█████▏    | 5189/9999 [00:02<00:02, 1977.75it/s]\u001b[A\n",
            "Processing R:  54%|█████▍    | 5407/9999 [00:02<00:02, 2036.07it/s]\u001b[A\n",
            "Processing R:  56%|█████▌    | 5615/9999 [00:02<00:02, 2048.20it/s]\u001b[A\n",
            "Processing R:  58%|█████▊    | 5821/9999 [00:03<00:02, 1960.35it/s]\u001b[A\n",
            "Processing R:  60%|██████    | 6019/9999 [00:03<00:02, 1912.89it/s]\u001b[A\n",
            "Processing R:  62%|██████▏   | 6212/9999 [00:03<00:01, 1896.85it/s]\u001b[A\n",
            "Processing R:  64%|██████▍   | 6413/9999 [00:03<00:01, 1929.05it/s]\u001b[A\n",
            "Processing R:  66%|██████▋   | 6625/9999 [00:03<00:01, 1983.35it/s]\u001b[A\n",
            "Processing R:  68%|██████▊   | 6835/9999 [00:03<00:01, 2016.64it/s]\u001b[A\n",
            "Processing R:  70%|███████   | 7045/9999 [00:03<00:01, 2038.90it/s]\u001b[A\n",
            "Processing R:  73%|███████▎  | 7250/9999 [00:03<00:01, 2039.22it/s]\u001b[A\n",
            "Processing R:  75%|███████▍  | 7458/9999 [00:03<00:01, 2049.05it/s]\u001b[A\n",
            "Processing R:  77%|███████▋  | 7675/9999 [00:03<00:01, 2080.67it/s]\u001b[A\n",
            "Processing R:  79%|███████▉  | 7884/9999 [00:04<00:01, 1923.47it/s]\u001b[A\n",
            "Processing R:  81%|████████  | 8079/9999 [00:04<00:01, 1872.03it/s]\u001b[A\n",
            "Processing R:  83%|████████▎ | 8269/9999 [00:04<00:00, 1879.75it/s]\u001b[A\n",
            "Processing R:  85%|████████▍ | 8479/9999 [00:04<00:00, 1941.37it/s]\u001b[A\n",
            "Processing R:  87%|████████▋ | 8695/9999 [00:04<00:00, 2004.69it/s]\u001b[A\n",
            "Processing R:  89%|████████▉ | 8900/9999 [00:04<00:00, 2016.66it/s]\u001b[A\n",
            "Processing R:  91%|█████████ | 9104/9999 [00:04<00:00, 2021.86it/s]\u001b[A\n",
            "Processing R:  93%|█████████▎| 9320/9999 [00:04<00:00, 2060.88it/s]\u001b[A\n",
            "Processing R:  95%|█████████▌| 9536/9999 [00:04<00:00, 2088.98it/s]\u001b[A\n",
            "Processing R:  97%|█████████▋| 9746/9999 [00:04<00:00, 2044.89it/s]\u001b[A\n",
            "Processing R: 100%|██████████| 9999/9999 [00:05<00:00, 1949.15it/s]\n",
            "Loading Categories:  50%|█████     | 1/2 [00:05<00:05,  5.17s/it]\n",
            "Processing O:   0%|          | 0/12565 [00:00<?, ?it/s]\u001b[A\n",
            "Processing O:   1%|▏         | 175/12565 [00:00<00:07, 1749.54it/s]\u001b[A\n",
            "Processing O:   3%|▎         | 361/12565 [00:00<00:06, 1812.61it/s]\u001b[A\n",
            "Processing O:   4%|▍         | 560/12565 [00:00<00:06, 1890.46it/s]\u001b[A\n",
            "Processing O:   6%|▌         | 750/12565 [00:00<00:06, 1884.60it/s]\u001b[A\n",
            "Processing O:   7%|▋         | 939/12565 [00:00<00:06, 1855.53it/s]\u001b[A\n",
            "Processing O:   9%|▉         | 1129/12565 [00:00<00:06, 1867.64it/s]\u001b[A\n",
            "Processing O:  11%|█         | 1325/12565 [00:00<00:05, 1896.30it/s]\u001b[A\n",
            "Processing O:  12%|█▏        | 1515/12565 [00:00<00:05, 1857.45it/s]\u001b[A\n",
            "Processing O:  14%|█▎        | 1701/12565 [00:00<00:06, 1702.76it/s]\u001b[A\n",
            "Processing O:  15%|█▌        | 1895/12565 [00:01<00:06, 1769.97it/s]\u001b[A\n",
            "Processing O:  17%|█▋        | 2075/12565 [00:01<00:05, 1755.46it/s]\u001b[A\n",
            "Processing O:  18%|█▊        | 2264/12565 [00:01<00:05, 1792.47it/s]\u001b[A\n",
            "Processing O:  20%|█▉        | 2454/12565 [00:01<00:05, 1820.79it/s]\u001b[A\n",
            "Processing O:  21%|██        | 2641/12565 [00:01<00:05, 1835.13it/s]\u001b[A\n",
            "Processing O:  23%|██▎       | 2828/12565 [00:01<00:05, 1843.94it/s]\u001b[A\n",
            "Processing O:  24%|██▍       | 3013/12565 [00:01<00:05, 1815.65it/s]\u001b[A\n",
            "Processing O:  26%|██▌       | 3206/12565 [00:01<00:05, 1848.30it/s]\u001b[A\n",
            "Processing O:  27%|██▋       | 3392/12565 [00:01<00:05, 1731.05it/s]\u001b[A\n",
            "Processing O:  28%|██▊       | 3567/12565 [00:01<00:05, 1667.27it/s]\u001b[A\n",
            "Processing O:  30%|██▉       | 3753/12565 [00:02<00:05, 1721.01it/s]\u001b[A\n",
            "Processing O:  31%|███▏      | 3927/12565 [00:02<00:05, 1672.45it/s]\u001b[A\n",
            "Processing O:  33%|███▎      | 4112/12565 [00:02<00:04, 1718.77it/s]\u001b[A\n",
            "Processing O:  34%|███▍      | 4306/12565 [00:02<00:04, 1780.28it/s]\u001b[A\n",
            "Processing O:  36%|███▌      | 4490/12565 [00:02<00:04, 1796.73it/s]\u001b[A\n",
            "Processing O:  37%|███▋      | 4673/12565 [00:02<00:04, 1804.14it/s]\u001b[A\n",
            "Processing O:  39%|███▊      | 4856/12565 [00:02<00:04, 1811.35it/s]\u001b[A\n",
            "Processing O:  40%|████      | 5038/12565 [00:02<00:04, 1807.92it/s]\u001b[A\n",
            "Processing O:  42%|████▏     | 5220/12565 [00:02<00:04, 1708.45it/s]\u001b[A\n",
            "Processing O:  43%|████▎     | 5404/12565 [00:03<00:04, 1745.31it/s]\u001b[A\n",
            "Processing O:  44%|████▍     | 5589/12565 [00:03<00:03, 1772.61it/s]\u001b[A\n",
            "Processing O:  46%|████▌     | 5768/12565 [00:03<00:03, 1719.19it/s]\u001b[A\n",
            "Processing O:  47%|████▋     | 5941/12565 [00:03<00:04, 1529.73it/s]\u001b[A\n",
            "Processing O:  49%|████▊     | 6099/12565 [00:03<00:04, 1407.40it/s]\u001b[A\n",
            "Processing O:  50%|████▉     | 6244/12565 [00:03<00:04, 1317.74it/s]\u001b[A\n",
            "Processing O:  51%|█████     | 6379/12565 [00:03<00:04, 1256.14it/s]\u001b[A\n",
            "Processing O:  52%|█████▏    | 6507/12565 [00:03<00:04, 1218.63it/s]\u001b[A\n",
            "Processing O:  53%|█████▎    | 6631/12565 [00:03<00:04, 1197.07it/s]\u001b[A\n",
            "Processing O:  54%|█████▍    | 6758/12565 [00:04<00:04, 1216.29it/s]\u001b[A\n",
            "Processing O:  55%|█████▍    | 6881/12565 [00:04<00:04, 1203.04it/s]\u001b[A\n",
            "Processing O:  56%|█████▌    | 7002/12565 [00:04<00:04, 1200.07it/s]\u001b[A\n",
            "Processing O:  57%|█████▋    | 7125/12565 [00:04<00:04, 1206.14it/s]\u001b[A\n",
            "Processing O:  58%|█████▊    | 7246/12565 [00:04<00:04, 1200.96it/s]\u001b[A\n",
            "Processing O:  59%|█████▊    | 7368/12565 [00:04<00:04, 1205.13it/s]\u001b[A\n",
            "Processing O:  60%|█████▉    | 7501/12565 [00:04<00:04, 1241.31it/s]\u001b[A\n",
            "Processing O:  61%|██████    | 7626/12565 [00:04<00:04, 1212.36it/s]\u001b[A\n",
            "Processing O:  62%|██████▏   | 7748/12565 [00:04<00:04, 1130.21it/s]\u001b[A\n",
            "Processing O:  63%|██████▎   | 7863/12565 [00:05<00:04, 1080.80it/s]\u001b[A\n",
            "Processing O:  64%|██████▎   | 7985/12565 [00:05<00:04, 1118.77it/s]\u001b[A\n",
            "Processing O:  64%|██████▍   | 8102/12565 [00:05<00:03, 1132.15it/s]\u001b[A\n",
            "Processing O:  65%|██████▌   | 8217/12565 [00:05<00:03, 1115.98it/s]\u001b[A\n",
            "Processing O:  66%|██████▋   | 8341/12565 [00:05<00:03, 1150.37it/s]\u001b[A\n",
            "Processing O:  67%|██████▋   | 8457/12565 [00:05<00:03, 1150.82it/s]\u001b[A\n",
            "Processing O:  68%|██████▊   | 8583/12565 [00:05<00:03, 1180.77it/s]\u001b[A\n",
            "Processing O:  69%|██████▉   | 8706/12565 [00:05<00:03, 1194.29it/s]\u001b[A\n",
            "Processing O:  70%|███████   | 8826/12565 [00:05<00:03, 1131.72it/s]\u001b[A\n",
            "Processing O:  71%|███████   | 8940/12565 [00:05<00:03, 1115.40it/s]\u001b[A\n",
            "Processing O:  72%|███████▏  | 9059/12565 [00:06<00:03, 1135.97it/s]\u001b[A\n",
            "Processing O:  73%|███████▎  | 9174/12565 [00:06<00:03, 1124.52it/s]\u001b[A\n",
            "Processing O:  74%|███████▍  | 9287/12565 [00:06<00:02, 1118.71it/s]\u001b[A\n",
            "Processing O:  75%|███████▍  | 9400/12565 [00:06<00:02, 1082.09it/s]\u001b[A\n",
            "Processing O:  76%|███████▌  | 9515/12565 [00:06<00:02, 1100.75it/s]\u001b[A\n",
            "Processing O:  77%|███████▋  | 9636/12565 [00:06<00:02, 1131.28it/s]\u001b[A\n",
            "Processing O:  78%|███████▊  | 9756/12565 [00:06<00:02, 1149.59it/s]\u001b[A\n",
            "Processing O:  79%|███████▊  | 9872/12565 [00:06<00:02, 1130.44it/s]\u001b[A\n",
            "Processing O:  79%|███████▉  | 9986/12565 [00:06<00:02, 1073.37it/s]\u001b[A\n",
            "Processing O:  80%|████████  | 10095/12565 [00:07<00:02, 1077.63it/s]\u001b[A\n",
            "Processing O:  81%|████████  | 10206/12565 [00:07<00:02, 1086.70it/s]\u001b[A\n",
            "Processing O:  82%|████████▏ | 10328/12565 [00:07<00:01, 1122.87it/s]\u001b[A\n",
            "Processing O:  83%|████████▎ | 10441/12565 [00:07<00:01, 1121.95it/s]\u001b[A\n",
            "Processing O:  84%|████████▍ | 10554/12565 [00:07<00:01, 1073.01it/s]\u001b[A\n",
            "Processing O:  85%|████████▍ | 10665/12565 [00:07<00:01, 1083.20it/s]\u001b[A\n",
            "Processing O:  86%|████████▌ | 10774/12565 [00:07<00:01, 1067.98it/s]\u001b[A\n",
            "Processing O:  87%|████████▋ | 10892/12565 [00:07<00:01, 1099.80it/s]\u001b[A\n",
            "Processing O:  88%|████████▊ | 11003/12565 [00:07<00:01, 1075.74it/s]\u001b[A\n",
            "Processing O:  88%|████████▊ | 11118/12565 [00:07<00:01, 1095.78it/s]\u001b[A\n",
            "Processing O:  90%|████████▉ | 11300/12565 [00:08<00:00, 1305.70it/s]\u001b[A\n",
            "Processing O:  91%|█████████▏| 11492/12565 [00:08<00:00, 1485.45it/s]\u001b[A\n",
            "Processing O:  93%|█████████▎| 11683/12565 [00:08<00:00, 1609.79it/s]\u001b[A\n",
            "Processing O:  95%|█████████▍| 11878/12565 [00:08<00:00, 1708.89it/s]\u001b[A\n",
            "Processing O:  96%|█████████▌| 12067/12565 [00:08<00:00, 1761.37it/s]\u001b[A\n",
            "Processing O:  97%|█████████▋| 12244/12565 [00:08<00:00, 1724.67it/s]\u001b[A\n",
            "Processing O: 100%|██████████| 12565/12565 [00:08<00:00, 1434.93it/s]\n",
            "Loading Categories: 100%|██████████| 2/2 [00:13<00:00,  6.98s/it]\n"
          ]
        }
      ]
    },
    {
      "cell_type": "code",
      "source": [
        "label_counts = data['label'].value_counts()\n",
        "plt.pie(label_counts, labels=label_counts.index, autopct='%0.2f%%', startangle=90, explode=[0.05] * len(label_counts),\n",
        "        colors=plt.cm.Paired.colors[:len(label_counts)])\n",
        "plt.axis('equal')\n",
        "plt.title(\"Label Distribution\")\n",
        "plt.show()"
      ],
      "metadata": {
        "colab": {
          "base_uri": "https://localhost:8080/",
          "height": 428
        },
        "id": "6iuwBd7yfap5",
        "outputId": "b5934e29-bdd9-46af-e784-434e224fbe0a"
      },
      "execution_count": null,
      "outputs": [
        {
          "output_type": "display_data",
          "data": {
            "text/plain": [
              "<Figure size 640x480 with 1 Axes>"
            ],
            "image/png": "[encoded data removed]"
          },
          "metadata": {}
        }
      ]
    },
    {
      "cell_type": "code",
      "source": [],
      "metadata": {
        "id": "-UGF87hXmnwi"
      },
      "execution_count": null,
      "outputs": []
    }
  ]
}